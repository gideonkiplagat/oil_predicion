{
 "cells": [
  {
   "cell_type": "markdown",
   "metadata": {},
   "source": [
    "## 1 a) Use Pandas to load the data and report the number of data points (rows) in the training\n",
    "## set and the test set, respectively."
   ]
  },
  {
   "cell_type": "code",
   "execution_count": 105,
   "metadata": {},
   "outputs": [],
   "source": [
    "import pandas as pd\n",
    "import numpy as np\n",
    "import matplotlib.pyplot as plt\n",
    "import seaborn as sns\n",
    "%matplotlib inline"
   ]
  },
  {
   "cell_type": "code",
   "execution_count": 106,
   "metadata": {},
   "outputs": [],
   "source": [
    "df_train=pd.read_csv(\"./Downloads/trndata.csv\")"
   ]
  },
  {
   "cell_type": "code",
   "execution_count": 107,
   "metadata": {},
   "outputs": [
    {
     "data": {
      "text/html": [
       "<div>\n",
       "<style scoped>\n",
       "    .dataframe tbody tr th:only-of-type {\n",
       "        vertical-align: middle;\n",
       "    }\n",
       "\n",
       "    .dataframe tbody tr th {\n",
       "        vertical-align: top;\n",
       "    }\n",
       "\n",
       "    .dataframe thead th {\n",
       "        text-align: right;\n",
       "    }\n",
       "</style>\n",
       "<table border=\"1\" class=\"dataframe\">\n",
       "  <thead>\n",
       "    <tr style=\"text-align: right;\">\n",
       "      <th></th>\n",
       "      <th>F1</th>\n",
       "      <th>F2</th>\n",
       "      <th>F3</th>\n",
       "      <th>F4</th>\n",
       "      <th>F5</th>\n",
       "      <th>F6</th>\n",
       "      <th>F7</th>\n",
       "      <th>F8</th>\n",
       "      <th>F9</th>\n",
       "      <th>F10</th>\n",
       "      <th>F11</th>\n",
       "      <th>F12</th>\n",
       "      <th>L</th>\n",
       "    </tr>\n",
       "  </thead>\n",
       "  <tbody>\n",
       "    <tr>\n",
       "      <th>0</th>\n",
       "      <td>0.3315</td>\n",
       "      <td>0.2156</td>\n",
       "      <td>0.6802</td>\n",
       "      <td>0.1434</td>\n",
       "      <td>0.6825</td>\n",
       "      <td>0.2720</td>\n",
       "      <td>0.6223</td>\n",
       "      <td>0.2092</td>\n",
       "      <td>0.7961</td>\n",
       "      <td>0.1530</td>\n",
       "      <td>0.5856</td>\n",
       "      <td>0.2573</td>\n",
       "      <td>1</td>\n",
       "    </tr>\n",
       "    <tr>\n",
       "      <th>1</th>\n",
       "      <td>0.0939</td>\n",
       "      <td>1.0089</td>\n",
       "      <td>0.0365</td>\n",
       "      <td>0.6944</td>\n",
       "      <td>0.0908</td>\n",
       "      <td>0.4961</td>\n",
       "      <td>0.0722</td>\n",
       "      <td>0.6521</td>\n",
       "      <td>-0.0130</td>\n",
       "      <td>0.6085</td>\n",
       "      <td>0.0631</td>\n",
       "      <td>0.6597</td>\n",
       "      <td>2</td>\n",
       "    </tr>\n",
       "    <tr>\n",
       "      <th>2</th>\n",
       "      <td>0.5184</td>\n",
       "      <td>0.2283</td>\n",
       "      <td>0.5300</td>\n",
       "      <td>0.6884</td>\n",
       "      <td>0.7456</td>\n",
       "      <td>0.6171</td>\n",
       "      <td>0.6136</td>\n",
       "      <td>0.5928</td>\n",
       "      <td>0.7678</td>\n",
       "      <td>0.6130</td>\n",
       "      <td>0.6705</td>\n",
       "      <td>0.5202</td>\n",
       "      <td>1</td>\n",
       "    </tr>\n",
       "    <tr>\n",
       "      <th>3</th>\n",
       "      <td>0.4208</td>\n",
       "      <td>0.6740</td>\n",
       "      <td>0.1651</td>\n",
       "      <td>0.7592</td>\n",
       "      <td>0.1810</td>\n",
       "      <td>0.5448</td>\n",
       "      <td>0.1707</td>\n",
       "      <td>0.7554</td>\n",
       "      <td>0.1635</td>\n",
       "      <td>0.5492</td>\n",
       "      <td>0.2598</td>\n",
       "      <td>0.6455</td>\n",
       "      <td>2</td>\n",
       "    </tr>\n",
       "    <tr>\n",
       "      <th>4</th>\n",
       "      <td>0.3130</td>\n",
       "      <td>0.6465</td>\n",
       "      <td>0.5908</td>\n",
       "      <td>0.6924</td>\n",
       "      <td>0.7664</td>\n",
       "      <td>0.6262</td>\n",
       "      <td>1.7177</td>\n",
       "      <td>0.0150</td>\n",
       "      <td>0.0851</td>\n",
       "      <td>1.9046</td>\n",
       "      <td>-0.0165</td>\n",
       "      <td>0.0221</td>\n",
       "      <td>3</td>\n",
       "    </tr>\n",
       "  </tbody>\n",
       "</table>\n",
       "</div>"
      ],
      "text/plain": [
       "       F1      F2      F3      F4      F5      F6      F7      F8      F9  \\\n",
       "0  0.3315  0.2156  0.6802  0.1434  0.6825  0.2720  0.6223  0.2092  0.7961   \n",
       "1  0.0939  1.0089  0.0365  0.6944  0.0908  0.4961  0.0722  0.6521 -0.0130   \n",
       "2  0.5184  0.2283  0.5300  0.6884  0.7456  0.6171  0.6136  0.5928  0.7678   \n",
       "3  0.4208  0.6740  0.1651  0.7592  0.1810  0.5448  0.1707  0.7554  0.1635   \n",
       "4  0.3130  0.6465  0.5908  0.6924  0.7664  0.6262  1.7177  0.0150  0.0851   \n",
       "\n",
       "      F10     F11     F12  L  \n",
       "0  0.1530  0.5856  0.2573  1  \n",
       "1  0.6085  0.0631  0.6597  2  \n",
       "2  0.6130  0.6705  0.5202  1  \n",
       "3  0.5492  0.2598  0.6455  2  \n",
       "4  1.9046 -0.0165  0.0221  3  "
      ]
     },
     "execution_count": 107,
     "metadata": {},
     "output_type": "execute_result"
    }
   ],
   "source": [
    "df_train.head()"
   ]
  },
  {
   "cell_type": "code",
   "execution_count": 524,
   "metadata": {},
   "outputs": [],
   "source": [
    "df_test=pd.read_csv(\"./Downloads/tstdata.csv\")"
   ]
  },
  {
   "cell_type": "code",
   "execution_count": 525,
   "metadata": {},
   "outputs": [
    {
     "data": {
      "text/html": [
       "<div>\n",
       "<style scoped>\n",
       "    .dataframe tbody tr th:only-of-type {\n",
       "        vertical-align: middle;\n",
       "    }\n",
       "\n",
       "    .dataframe tbody tr th {\n",
       "        vertical-align: top;\n",
       "    }\n",
       "\n",
       "    .dataframe thead th {\n",
       "        text-align: right;\n",
       "    }\n",
       "</style>\n",
       "<table border=\"1\" class=\"dataframe\">\n",
       "  <thead>\n",
       "    <tr style=\"text-align: right;\">\n",
       "      <th></th>\n",
       "      <th>F1</th>\n",
       "      <th>F2</th>\n",
       "      <th>F3</th>\n",
       "      <th>F4</th>\n",
       "      <th>F5</th>\n",
       "      <th>F6</th>\n",
       "      <th>F7</th>\n",
       "      <th>F8</th>\n",
       "      <th>F9</th>\n",
       "      <th>F10</th>\n",
       "      <th>F11</th>\n",
       "      <th>F12</th>\n",
       "      <th>L</th>\n",
       "    </tr>\n",
       "  </thead>\n",
       "  <tbody>\n",
       "    <tr>\n",
       "      <th>0</th>\n",
       "      <td>0.5803</td>\n",
       "      <td>0.4980</td>\n",
       "      <td>0.8809</td>\n",
       "      <td>0.8215</td>\n",
       "      <td>1.0133</td>\n",
       "      <td>0.9187</td>\n",
       "      <td>0.8508</td>\n",
       "      <td>0.8496</td>\n",
       "      <td>0.9996</td>\n",
       "      <td>0.9670</td>\n",
       "      <td>0.9111</td>\n",
       "      <td>0.7814</td>\n",
       "      <td>1</td>\n",
       "    </tr>\n",
       "    <tr>\n",
       "      <th>1</th>\n",
       "      <td>0.0026</td>\n",
       "      <td>0.6084</td>\n",
       "      <td>0.2808</td>\n",
       "      <td>0.6282</td>\n",
       "      <td>0.2995</td>\n",
       "      <td>0.7513</td>\n",
       "      <td>-0.0107</td>\n",
       "      <td>1.7503</td>\n",
       "      <td>-0.0622</td>\n",
       "      <td>2.0704</td>\n",
       "      <td>-0.0999</td>\n",
       "      <td>0.1214</td>\n",
       "      <td>3</td>\n",
       "    </tr>\n",
       "    <tr>\n",
       "      <th>2</th>\n",
       "      <td>-0.0115</td>\n",
       "      <td>1.1193</td>\n",
       "      <td>0.2201</td>\n",
       "      <td>1.3189</td>\n",
       "      <td>0.2656</td>\n",
       "      <td>1.4039</td>\n",
       "      <td>-0.0067</td>\n",
       "      <td>1.7438</td>\n",
       "      <td>0.0013</td>\n",
       "      <td>2.0020</td>\n",
       "      <td>-0.0401</td>\n",
       "      <td>1.7797</td>\n",
       "      <td>3</td>\n",
       "    </tr>\n",
       "    <tr>\n",
       "      <th>3</th>\n",
       "      <td>-0.0536</td>\n",
       "      <td>1.0370</td>\n",
       "      <td>0.0558</td>\n",
       "      <td>1.2483</td>\n",
       "      <td>0.2640</td>\n",
       "      <td>1.1456</td>\n",
       "      <td>0.0140</td>\n",
       "      <td>1.7156</td>\n",
       "      <td>0.0125</td>\n",
       "      <td>1.9889</td>\n",
       "      <td>-0.0598</td>\n",
       "      <td>0.0709</td>\n",
       "      <td>3</td>\n",
       "    </tr>\n",
       "    <tr>\n",
       "      <th>4</th>\n",
       "      <td>0.5021</td>\n",
       "      <td>0.4270</td>\n",
       "      <td>0.6450</td>\n",
       "      <td>0.8325</td>\n",
       "      <td>0.7560</td>\n",
       "      <td>0.9235</td>\n",
       "      <td>0.7289</td>\n",
       "      <td>0.7352</td>\n",
       "      <td>0.7735</td>\n",
       "      <td>0.9298</td>\n",
       "      <td>0.6013</td>\n",
       "      <td>0.8842</td>\n",
       "      <td>1</td>\n",
       "    </tr>\n",
       "  </tbody>\n",
       "</table>\n",
       "</div>"
      ],
      "text/plain": [
       "       F1      F2      F3      F4      F5      F6      F7      F8      F9  \\\n",
       "0  0.5803  0.4980  0.8809  0.8215  1.0133  0.9187  0.8508  0.8496  0.9996   \n",
       "1  0.0026  0.6084  0.2808  0.6282  0.2995  0.7513 -0.0107  1.7503 -0.0622   \n",
       "2 -0.0115  1.1193  0.2201  1.3189  0.2656  1.4039 -0.0067  1.7438  0.0013   \n",
       "3 -0.0536  1.0370  0.0558  1.2483  0.2640  1.1456  0.0140  1.7156  0.0125   \n",
       "4  0.5021  0.4270  0.6450  0.8325  0.7560  0.9235  0.7289  0.7352  0.7735   \n",
       "\n",
       "      F10     F11     F12  L  \n",
       "0  0.9670  0.9111  0.7814  1  \n",
       "1  2.0704 -0.0999  0.1214  3  \n",
       "2  2.0020 -0.0401  1.7797  3  \n",
       "3  1.9889 -0.0598  0.0709  3  \n",
       "4  0.9298  0.6013  0.8842  1  "
      ]
     },
     "execution_count": 525,
     "metadata": {},
     "output_type": "execute_result"
    }
   ],
   "source": [
    "df_test.head()"
   ]
  },
  {
   "cell_type": "code",
   "execution_count": 110,
   "metadata": {},
   "outputs": [
    {
     "data": {
      "text/plain": [
       "(1000, 13)"
      ]
     },
     "execution_count": 110,
     "metadata": {},
     "output_type": "execute_result"
    }
   ],
   "source": [
    "df_train.shape"
   ]
  },
  {
   "cell_type": "code",
   "execution_count": 111,
   "metadata": {},
   "outputs": [
    {
     "data": {
      "text/plain": [
       "(300, 13)"
      ]
     },
     "execution_count": 111,
     "metadata": {},
     "output_type": "execute_result"
    }
   ],
   "source": [
    "df_test.shape"
   ]
  },
  {
   "cell_type": "markdown",
   "metadata": {},
   "source": [
    "### b) Report the number of features in the dataset and the number of data points in each class for the training set and the test set, separately."
   ]
  },
  {
   "cell_type": "code",
   "execution_count": 112,
   "metadata": {},
   "outputs": [
    {
     "data": {
      "text/plain": [
       "1    343\n",
       "3    341\n",
       "2    316\n",
       "Name: L, dtype: int64"
      ]
     },
     "execution_count": 112,
     "metadata": {},
     "output_type": "execute_result"
    }
   ],
   "source": [
    "df_train['L'].value_counts()"
   ]
  },
  {
   "cell_type": "code",
   "execution_count": 113,
   "metadata": {},
   "outputs": [
    {
     "data": {
      "text/plain": [
       "3    104\n",
       "2     98\n",
       "1     98\n",
       "Name: L, dtype: int64"
      ]
     },
     "execution_count": 113,
     "metadata": {},
     "output_type": "execute_result"
    }
   ],
   "source": [
    "df_test['L'].value_counts()"
   ]
  },
  {
   "cell_type": "markdown",
   "metadata": {},
   "source": [
    "######  Number of features :3 (1,2 and 3)\n",
    "#### Train set\n",
    "        Features   No of data point\n",
    "           1            343\n",
    "           2             316\n",
    "           3             341    \n",
    "           \n",
    "    ### Test set\n",
    "           Features   No of data point\n",
    "           1           98\n",
    "           2             98\n",
    "           3             104    \n",
    "           "
   ]
  },
  {
   "cell_type": "markdown",
   "metadata": {},
   "source": [
    "## C) Do random permutations for the training data using the function, shuffle, from\n",
    "## sklearn.utils. You must set a value for the parameter, random_state. Save the data\n",
    "## as Training_set_I."
   ]
  },
  {
   "cell_type": "code",
   "execution_count": 114,
   "metadata": {},
   "outputs": [],
   "source": [
    "from sklearn.utils import shuffle\n",
    "Training_set_I=shuffle(df_train,random_state=14)\n"
   ]
  },
  {
   "cell_type": "markdown",
   "metadata": {},
   "source": [
    "## d )Show one scatter plot for the training set, that is, one feature against another feature. It is your choice which two features you want to use in the scatter plot. "
   ]
  },
  {
   "cell_type": "code",
   "execution_count": 115,
   "metadata": {},
   "outputs": [
    {
     "data": {
      "text/plain": [
       "<function matplotlib.pyplot.show(close=None, block=None)>"
      ]
     },
     "execution_count": 115,
     "metadata": {},
     "output_type": "execute_result"
    },
    {
     "data": {
      "image/png": "[encoded data removed]",
      "text/plain": [
       "<Figure size 432x288 with 1 Axes>"
      ]
     },
     "metadata": {
      "needs_background": "light"
     },
     "output_type": "display_data"
    }
   ],
   "source": [
    "plt.scatter(df_train['F1'], df_train['F5'], s=10, c='b', marker=\"o\", label='first')\n",
    "plt.xlabel('F1')\n",
    "plt.ylabel('F5')\n",
    "plt.title('Scatter plot for features F1 and F5')\n",
    "plt.show"
   ]
  },
  {
   "cell_type": "markdown",
   "metadata": {},
   "source": [
    "# Task 2\n",
    "\n",
    "\n",
    "###  Perform principal component analysis (PCA) on the training set Using Scikit-Learn"
   ]
  },
  {
   "cell_type": "markdown",
   "metadata": {},
   "source": [
    "#### a. Perform a PCA analysis on Training_set_I."
   ]
  },
  {
   "cell_type": "code",
   "execution_count": 351,
   "metadata": {},
   "outputs": [
    {
     "data": {
      "text/html": [
       "<div>\n",
       "<style scoped>\n",
       "    .dataframe tbody tr th:only-of-type {\n",
       "        vertical-align: middle;\n",
       "    }\n",
       "\n",
       "    .dataframe tbody tr th {\n",
       "        vertical-align: top;\n",
       "    }\n",
       "\n",
       "    .dataframe thead th {\n",
       "        text-align: right;\n",
       "    }\n",
       "</style>\n",
       "<table border=\"1\" class=\"dataframe\">\n",
       "  <thead>\n",
       "    <tr style=\"text-align: right;\">\n",
       "      <th></th>\n",
       "      <th>PC1</th>\n",
       "      <th>PC2</th>\n",
       "    </tr>\n",
       "  </thead>\n",
       "  <tbody>\n",
       "    <tr>\n",
       "      <th>0</th>\n",
       "      <td>1.147708</td>\n",
       "      <td>-0.300213</td>\n",
       "    </tr>\n",
       "    <tr>\n",
       "      <th>1</th>\n",
       "      <td>0.418048</td>\n",
       "      <td>0.140978</td>\n",
       "    </tr>\n",
       "    <tr>\n",
       "      <th>2</th>\n",
       "      <td>0.830607</td>\n",
       "      <td>-0.878652</td>\n",
       "    </tr>\n",
       "    <tr>\n",
       "      <th>3</th>\n",
       "      <td>0.927197</td>\n",
       "      <td>0.323086</td>\n",
       "    </tr>\n",
       "    <tr>\n",
       "      <th>4</th>\n",
       "      <td>1.465391</td>\n",
       "      <td>-0.935471</td>\n",
       "    </tr>\n",
       "    <tr>\n",
       "      <th>...</th>\n",
       "      <td>...</td>\n",
       "      <td>...</td>\n",
       "    </tr>\n",
       "    <tr>\n",
       "      <th>995</th>\n",
       "      <td>0.783644</td>\n",
       "      <td>0.695341</td>\n",
       "    </tr>\n",
       "    <tr>\n",
       "      <th>996</th>\n",
       "      <td>-1.674469</td>\n",
       "      <td>-0.905491</td>\n",
       "    </tr>\n",
       "    <tr>\n",
       "      <th>997</th>\n",
       "      <td>0.336617</td>\n",
       "      <td>1.493998</td>\n",
       "    </tr>\n",
       "    <tr>\n",
       "      <th>998</th>\n",
       "      <td>0.395219</td>\n",
       "      <td>0.160978</td>\n",
       "    </tr>\n",
       "    <tr>\n",
       "      <th>999</th>\n",
       "      <td>0.321947</td>\n",
       "      <td>1.319097</td>\n",
       "    </tr>\n",
       "  </tbody>\n",
       "</table>\n",
       "<p>1000 rows × 2 columns</p>\n",
       "</div>"
      ],
      "text/plain": [
       "          PC1       PC2\n",
       "0    1.147708 -0.300213\n",
       "1    0.418048  0.140978\n",
       "2    0.830607 -0.878652\n",
       "3    0.927197  0.323086\n",
       "4    1.465391 -0.935471\n",
       "..        ...       ...\n",
       "995  0.783644  0.695341\n",
       "996 -1.674469 -0.905491\n",
       "997  0.336617  1.493998\n",
       "998  0.395219  0.160978\n",
       "999  0.321947  1.319097\n",
       "\n",
       "[1000 rows x 2 columns]"
      ]
     },
     "execution_count": 351,
     "metadata": {},
     "output_type": "execute_result"
    }
   ],
   "source": [
    "from sklearn.decomposition import PCA\n",
    "pca = PCA(n_components=2)\n",
    "principalComponents = pca.fit_transform(Training_set_I)\n",
    "principalDf = pd.DataFrame(data = principalComponents\n",
    "             , columns = ['PC1', 'PC2'])\n",
    "principalDf"
   ]
  },
  {
   "cell_type": "code",
   "execution_count": 381,
   "metadata": {},
   "outputs": [],
   "source": [
    "finalDf = pd.concat([principalDf, Training_set_I[['L']]], axis = 1)\n",
    "\n"
   ]
  },
  {
   "cell_type": "markdown",
   "metadata": {},
   "source": [
    "#### b. Plot the data in the first principal component (PC1) and the second principal component\n",
    "#### (PC2) space and label/colour the data in the picture according to their class labels"
   ]
  },
  {
   "cell_type": "code",
   "execution_count": 384,
   "metadata": {},
   "outputs": [
    {
     "data": {
      "image/png": "[encoded data removed]",
      "text/plain": [
       "<Figure size 576x576 with 1 Axes>"
      ]
     },
     "metadata": {
      "needs_background": "light"
     },
     "output_type": "display_data"
    }
   ],
   "source": [
    "fig = plt.figure(figsize = (8,8))\n",
    "ax = fig.add_subplot(1,1,1) \n",
    "ax.set_xlabel('PC1', fontsize = 15)\n",
    "ax.set_ylabel('PC2', fontsize = 15)\n",
    "ax.set_title('2 component PCA', fontsize = 20)\n",
    "targets = [1,2,3]\n",
    "colors = ['r','g','b']\n",
    "for target, color in zip(targets,colors):\n",
    "    indicesToKeep = finalDf['L'] == target\n",
    "    ax.scatter(finalDf.loc[indicesToKeep, 'PC1']\n",
    "               , finalDf.loc[indicesToKeep, 'PC2']\n",
    "               , c = color\n",
    "               , s = 50)\n",
    "ax.legend(targets)\n",
    "ax.grid()"
   ]
  },
  {
   "cell_type": "markdown",
   "metadata": {},
   "source": [
    "#### c. Report the variance captured by each principal component and generate a scree plot. "
   ]
  },
  {
   "cell_type": "code",
   "execution_count": 344,
   "metadata": {},
   "outputs": [
    {
     "data": {
      "text/plain": [
       "array([0.344297 , 0.2977865])"
      ]
     },
     "execution_count": 344,
     "metadata": {},
     "output_type": "execute_result"
    }
   ],
   "source": [
    "pca.explained_variance_ratio_"
   ]
  },
  {
   "cell_type": "code",
   "execution_count": 345,
   "metadata": {},
   "outputs": [
    {
     "data": {
      "image/png": "[encoded data removed]",
      "text/plain": [
       "<Figure size 432x288 with 1 Axes>"
      ]
     },
     "metadata": {
      "needs_background": "light"
     },
     "output_type": "display_data"
    }
   ],
   "source": [
    "pca = PCA().fit(finalDf)\n",
    "plt.plot(np.cumsum(pca.explained_variance_ratio_))\n",
    "plt.title('Principal component Scree plot')\n",
    "plt.xlabel('number of components')\n",
    "plt.ylabel('cumulative explained variance')\n",
    "plt.show()\n"
   ]
  },
  {
   "cell_type": "markdown",
   "metadata": {},
   "source": [
    "#### d. Plot two subplots in one figure:"
   ]
  },
  {
   "cell_type": "code",
   "execution_count": 385,
   "metadata": {},
   "outputs": [],
   "source": [
    "from sklearn.model_selection import train_test_split\n",
    "from sklearn.preprocessing import StandardScaler\n",
    "\n",
    "train_data=finalDf.head(700)\n",
    "\n",
    "test_data=finalDf.tail(300)"
   ]
  },
  {
   "cell_type": "markdown",
   "metadata": {},
   "source": [
    "### one for projecting the training set in the PC1 and PC2 project space, where the training data should be labelled using different colours in the picture according its class;"
   ]
  },
  {
   "cell_type": "code",
   "execution_count": 425,
   "metadata": {
    "scrolled": true
   },
   "outputs": [
    {
     "data": {
      "image/png": "[encoded data removed]",
      "text/plain": [
       "<Figure size 720x432 with 2 Axes>"
      ]
     },
     "metadata": {
      "needs_background": "light"
     },
     "output_type": "display_data"
    }
   ],
   "source": [
    "fig =fig = plt.figure(figsize=(10,6))\n",
    "ax = fig.subplots(nrows=1,ncols=2) \n",
    "\n",
    "i=0;\n",
    "for cols in ax:\n",
    "   \n",
    "    targets = [1,2,3]\n",
    "    colors = ['r','g','b']\n",
    "    if i==0:\n",
    "        cols.set_xlabel('PC1', fontsize = 10)\n",
    "        cols.set_ylabel('PC2', fontsize = 10)\n",
    "        cols.set_title('Train set PCA 1 and 2', fontsize = 11)\n",
    "        for target, color in zip(targets,colors):\n",
    "            indicesToKeep = train_data['L'] == target\n",
    "            cols.scatter(train_data.loc[indicesToKeep, 'PC1']\n",
    "                       , train_data.loc[indicesToKeep, 'PC2']\n",
    "                       , c = color\n",
    "                       , s = 30)\n",
    "            cols.legend(targets)\n",
    "    else:\n",
    "         cols.set_xlabel('PC1', fontsize = 10)\n",
    "         cols.set_ylabel('PC2', fontsize = 10)\n",
    "         cols.set_title('Test set PCA 1 and 2', fontsize = 11)\n",
    "         for target, color in zip(targets,colors):\n",
    "            indicesToKeep = test_data['L'] == target\n",
    "            cols.scatter(test_data.loc[indicesToKeep, 'PC1']\n",
    "                       , test_data.loc[indicesToKeep, 'PC2']\n",
    "                       , c = color\n",
    "                       , s = 30)\n",
    "            cols.legend(targets)\n",
    "    i+=1\n",
    "plt.show()"
   ]
  },
  {
   "cell_type": "markdown",
   "metadata": {},
   "source": [
    "## Task 3: Divide the whole training set into a smaller training set (II) and a validation set"
   ]
  },
  {
   "cell_type": "markdown",
   "metadata": {},
   "source": [
    "#### a. Take out the last 300 rows from Training_set_I and save them as the validation set"
   ]
  },
  {
   "cell_type": "code",
   "execution_count": 426,
   "metadata": {},
   "outputs": [],
   "source": [
    "val_set=Training_set_I.tail(300)\n"
   ]
  },
  {
   "cell_type": "markdown",
   "metadata": {},
   "source": [
    "#### b. Save the rest of rows in Training_set_I as the smaller training set (Training set II)."
   ]
  },
  {
   "cell_type": "code",
   "execution_count": 429,
   "metadata": {},
   "outputs": [],
   "source": [
    "Training_set_II=Training_set_I.head(700)\n"
   ]
  },
  {
   "cell_type": "markdown",
   "metadata": {},
   "source": [
    "## Task 4: Investigate how the number of features in the training dataset affects the model\n",
    "## performance on the validation set "
   ]
  },
  {
   "cell_type": "markdown",
   "metadata": {},
   "source": [
    "## a)  Use Training set II to train D simple linear regression models, with D different feature sets"
   ]
  },
  {
   "cell_type": "code",
   "execution_count": 443,
   "metadata": {},
   "outputs": [],
   "source": [
    "from sklearn.linear_model import LinearRegression\n",
    "X=Training_set_II.drop('L', axis=1)\n",
    "Y=Training_set_II['L']\n"
   ]
  },
  {
   "cell_type": "markdown",
   "metadata": {},
   "source": [
    " ### D=1"
   ]
  },
  {
   "cell_type": "code",
   "execution_count": 439,
   "metadata": {},
   "outputs": [],
   "source": [
    "\n",
    "d1 = LinearRegression().fit(X.iloc[:, 0:1], Y)"
   ]
  },
  {
   "cell_type": "markdown",
   "metadata": {},
   "source": [
    "## D= 4"
   ]
  },
  {
   "cell_type": "code",
   "execution_count": 440,
   "metadata": {},
   "outputs": [],
   "source": [
    "## Usimg F1 F2 F3\n",
    "d4 = LinearRegression().fit(X.iloc[:, 0:4], Y)"
   ]
  },
  {
   "cell_type": "code",
   "execution_count": null,
   "metadata": {},
   "outputs": [],
   "source": []
  },
  {
   "cell_type": "markdown",
   "metadata": {},
   "source": [
    "## D= 8"
   ]
  },
  {
   "cell_type": "code",
   "execution_count": 441,
   "metadata": {},
   "outputs": [],
   "source": [
    "## Usimg F1 F2 F3\n",
    "d8 = LinearRegression().fit(X.iloc[:, 0:8], Y)"
   ]
  },
  {
   "cell_type": "markdown",
   "metadata": {},
   "source": [
    "## D= 12\n"
   ]
  },
  {
   "cell_type": "code",
   "execution_count": 442,
   "metadata": {},
   "outputs": [],
   "source": [
    "## Usimg F1 F2 F3\n",
    "d12 = LinearRegression().fit(X.iloc[:, 0:12], Y)"
   ]
  },
  {
   "cell_type": "markdown",
   "metadata": {},
   "source": [
    "### b) Produce a learning curve of the number of features used against the performance measurements. The performance should be measured on both Training set II and the validation set.\n",
    "\n",
    "\n",
    "Using accuracy as performance metric"
   ]
  },
  {
   "cell_type": "code",
   "execution_count": 493,
   "metadata": {},
   "outputs": [],
   "source": [
    "from sklearn.metrics import accuracy_score\n",
    "X_val=val_set.drop('L', axis=1)\n",
    "Y_val=val_set['L']\n"
   ]
  },
  {
   "cell_type": "code",
   "execution_count": 481,
   "metadata": {},
   "outputs": [],
   "source": [
    "models=[d1,d4,d8,d12]\n",
    "i=1\n",
    "train_preds=[]\n",
    "val_preds=[]\n",
    "for model in models:\n",
    "    preds=model.predict(X.iloc[:, 0:i])\n",
    "    train_preds.append(preds)\n",
    "    preds=model.predict(X_val.iloc[:, 0:i])\n",
    "    val_preds.append(preds)\n",
    "    if i==1:\n",
    "        i=4\n",
    "    else:\n",
    "        i+=4\n",
    " "
   ]
  },
  {
   "cell_type": "code",
   "execution_count": 483,
   "metadata": {},
   "outputs": [
    {
     "data": {
      "text/plain": [
       "array([[2, 2, 2, ..., 2, 2, 2],\n",
       "       [2, 2, 2, ..., 2, 2, 2],\n",
       "       [1, 2, 1, ..., 1, 2, 1],\n",
       "       [1, 2, 1, ..., 1, 2, 1]])"
      ]
     },
     "execution_count": 483,
     "metadata": {},
     "output_type": "execute_result"
    }
   ],
   "source": [
    "val_preds= np.array(val_preds).round(0).astype(int)\n",
    "train_preds= np.array(train_preds).round(0).astype(int)\n",
    "val_preds"
   ]
  },
  {
   "cell_type": "code",
   "execution_count": 491,
   "metadata": {},
   "outputs": [
    {
     "data": {
      "image/png": "[encoded data removed]",
      "text/plain": [
       "<Figure size 432x288 with 1 Axes>"
      ]
     },
     "metadata": {
      "needs_background": "light"
     },
     "output_type": "display_data"
    }
   ],
   "source": [
    "acc=[]\n",
    "for each in train_preds:\n",
    "    acc.append(accuracy_score(Y, each))\n",
    "    \n",
    "   \n",
    "features = [1,4,8,12]\n",
    "\n",
    "  \n",
    "plt.plot(features, acc)\n",
    "plt.title('Features No Vs Accuracy score')\n",
    "plt.xlabel('Features')\n",
    "plt.ylabel('Accuracy Score')\n",
    "plt.show()"
   ]
  },
  {
   "cell_type": "code",
   "execution_count": 492,
   "metadata": {},
   "outputs": [
    {
     "data": {
      "image/png": "[encoded data removed]",
      "text/plain": [
       "<Figure size 432x288 with 1 Axes>"
      ]
     },
     "metadata": {
      "needs_background": "light"
     },
     "output_type": "display_data"
    }
   ],
   "source": [
    "acc=[]\n",
    "for each in val_preds:\n",
    "    acc.append(accuracy_score(Y_val, each))\n",
    "    \n",
    "   \n",
    "features = [1,4,8,12]\n",
    "\n",
    "  \n",
    "plt.plot(features, acc)\n",
    "plt.title('Features No Vs Accuracy score')\n",
    "plt.xlabel('Features')\n",
    "plt.ylabel('Accuracy Score')\n",
    "plt.show()"
   ]
  },
  {
   "cell_type": "markdown",
   "metadata": {},
   "source": [
    "## c) State the optimal number of features that should be used in this work and explain why you choose it. This should all be written in your Jupyter notebook.\n",
    "\n",
    "The optimal number of features to be used in training the model should be 12 since it gives us the best performance of 90% + hence the model learns well with all the feratures"
   ]
  },
  {
   "cell_type": "markdown",
   "metadata": {},
   "source": [
    "## d) Use the selected number of features to train the model using Training_set_I and report the performance on the test set"
   ]
  },
  {
   "cell_type": "code",
   "execution_count": 539,
   "metadata": {},
   "outputs": [
    {
     "data": {
      "text/plain": [
       "0.9433333333333334"
      ]
     },
     "execution_count": 539,
     "metadata": {},
     "output_type": "execute_result"
    }
   ],
   "source": [
    "model = LinearRegression().fit(Training_set_I.iloc[:, 0:12], Training_set_I['L'])\n",
    "\n",
    "preds=model.predict(df_test.iloc[:, 0:12]).round(0)\n",
    "\n",
    "accuracy_score(df_test['L'], preds)"
   ]
  },
  {
   "cell_type": "markdown",
   "metadata": {},
   "source": [
    "Accuracy score is now 94% "
   ]
  },
  {
   "cell_type": "markdown",
   "metadata": {},
   "source": [
    "## Task 5: Summarise your findings\n",
    "\n",
    "### a \n",
    "    \n",
    "The number of rows in in training set is 1000 and 13 columns having the last 'L' column as the target variable with 3 classes (1,2, and 3)\n",
    "\n",
    "Secondly as the number of princioal components increase. The cummulative variance also increase on the PCA analysis\n",
    "\n",
    "I found out that the more the features used to train or fit the model, the better it's petrformance increases. The performance increases as the number of features increases. This is because the model is able to learn more of the number of features\n",
    "### b\n",
    "\n",
    "There is no experimental design problem in task 4. "
   ]
  },
  {
   "cell_type": "markdown",
   "metadata": {},
   "source": []
  },
  {
   "cell_type": "code",
   "execution_count": 544,
   "metadata": {},
   "outputs": [
    {
     "data": {
      "text/plain": [
       "['.bash_history',\n",
       " '.conda',\n",
       " '.condarc',\n",
       " '.config',\n",
       " '.gitconfig',\n",
       " '.ipynb_checkpoints',\n",
       " '.ipython',\n",
       " '.jupyter',\n",
       " '.matplotlib',\n",
       " '.nbi',\n",
       " '.vscode',\n",
       " '3D Objects',\n",
       " 'anaconda3',\n",
       " 'AppData',\n",
       " 'Application Data',\n",
       " 'Assignment 2.ipynb',\n",
       " 'Assisgnment.ipynb',\n",
       " 'Automobile_Data.ipynb',\n",
       " 'Classification.ipynb',\n",
       " 'Clustering-IBM.ipynb',\n",
       " 'Contacts',\n",
       " 'Cookies',\n",
       " 'Creative Cloud Files',\n",
       " 'Desktop',\n",
       " 'Diabetes.ipynb',\n",
       " 'Documents',\n",
       " 'Downloads',\n",
       " 'Favorites',\n",
       " 'Final-Automobile data.ipynb',\n",
       " 'IBM 1 on 1.ipynb',\n",
       " 'IntelGraphicsProfiles',\n",
       " 'Links',\n",
       " 'Local Settings',\n",
       " 'Movies',\n",
       " 'Music',\n",
       " 'My Documents',\n",
       " 'MyFile.txt',\n",
       " 'MyFile2.txt',\n",
       " 'NetHood',\n",
       " 'NTUSER.DAT',\n",
       " 'ntuser.dat.LOG1',\n",
       " 'ntuser.dat.LOG2',\n",
       " 'NTUSER.DAT{53b39e88-18c4-11ea-a811-000d3aa4692b}.TM.blf',\n",
       " 'NTUSER.DAT{53b39e88-18c4-11ea-a811-000d3aa4692b}.TMContainer00000000000000000001.regtrans-ms',\n",
       " 'NTUSER.DAT{53b39e88-18c4-11ea-a811-000d3aa4692b}.TMContainer00000000000000000002.regtrans-ms',\n",
       " 'ntuser.ini',\n",
       " 'OneDrive',\n",
       " 'Pictures',\n",
       " 'PrintHood',\n",
       " 'Recent',\n",
       " 'Saved Games',\n",
       " 'Searches',\n",
       " 'SendTo',\n",
       " 'Start Menu',\n",
       " 'Templates',\n",
       " 'Untitled.ipynb',\n",
       " 'Untitled1.ipynb',\n",
       " 'Untitled2.ipynb',\n",
       " 'Untitled3.ipynb',\n",
       " 'Untitled4.ipynb',\n",
       " 'Untitled5.ipynb',\n",
       " 'Untitled6.ipynb',\n",
       " 'Videos']"
      ]
     },
     "execution_count": 544,
     "metadata": {},
     "output_type": "execute_result"
    }
   ],
   "source": [
    "import os\n",
    "\n",
    "os.listdir(\"./\")"
   ]
  }
 ],
 "metadata": {
  "kernelspec": {
   "display_name": "Python 3",
   "language": "python",
   "name": "python3"
  },
  "language_info": {
   "codemirror_mode": {
    "name": "ipython",
    "version": 3
   },
   "file_extension": ".py",
   "mimetype": "text/x-python",
   "name": "python",
   "nbconvert_exporter": "python",
   "pygments_lexer": "ipython3",
   "version": "3.8.5"
  }
 },
 "nbformat": 4,
 "nbformat_minor": 4
}
